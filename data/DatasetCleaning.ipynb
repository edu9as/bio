{
 "metadata": {
  "language_info": {
   "codemirror_mode": {
    "name": "ipython",
    "version": 3
   },
   "file_extension": ".py",
   "mimetype": "text/x-python",
   "name": "python",
   "nbconvert_exporter": "python",
   "pygments_lexer": "ipython3",
   "version": "3.8.3"
  },
  "orig_nbformat": 2,
  "kernelspec": {
   "name": "python383jvsc74a57bd082195b71e57a4711562a3c4e3b93c246e382014c3225d48cb6fc3319d016ad0b",
   "display_name": "Python 3.8.3 64-bit ('base': conda)"
  }
 },
 "nbformat": 4,
 "nbformat_minor": 2,
 "cells": [
  {
   "source": [
    "# Dataset Cleaning\n",
    "\n",
    "In DatasetGeneration.ipynb I explained how I obtained some data about all human protein entries in UniProt (with reviewed status). As a result, all these data were stored in multiple CSV files (each file contains 500 rows, one per entry). \n",
    "\n",
    "In this notebook I show how the data stored in all these files can be concatenated in a single dataframe, and how this initial messy dataframe can be separated into three nice-looking dataframes"
   ],
   "cell_type": "markdown",
   "metadata": {}
  },
  {
   "source": [
    "## Initial dataset"
   ],
   "cell_type": "markdown",
   "metadata": {}
  },
  {
   "cell_type": "code",
   "execution_count": 1,
   "metadata": {},
   "outputs": [
    {
     "output_type": "execute_result",
     "data": {
      "text/plain": [
       "                      Protein     Gene               Species  \\\n",
       "0      Centrosomal protein 20    CEP20  Homo sapiens (Human)   \n",
       "1  Collagen alpha-6(VI) chain   COL6A6  Homo sapiens (Human)   \n",
       "2             Protein Hikeshi  HIKESHI  Homo sapiens (Human)   \n",
       "3    Unconventional myosin-Vb    MYO5B  Homo sapiens (Human)   \n",
       "4               BUD13 homolog    BUD13  Homo sapiens (Human)   \n",
       "\n",
       "                                         Description  \\\n",
       "0  Involved in the biogenesis of cilia (PubMed:20...   \n",
       "1        Collagen VI acts as a cell-binding protein.   \n",
       "2  Acts as a specific nuclear import carrier for ...   \n",
       "3  May be involved in vesicular trafficking via i...   \n",
       "4  Involved in pre-mRNA splicing as component of ...   \n",
       "\n",
       "                                           GOMolFunc  \\\n",
       "0               identical protein binding+GO:0042802   \n",
       "1                                                NaN   \n",
       "2  Hsp70 protein binding+GO:0030544&nuclear impor...   \n",
       "3  actin-dependent ATPase activity+GO:0030898&act...   \n",
       "4                             RNA binding+GO:0003723   \n",
       "\n",
       "                                           GOBioProc  \\\n",
       "0  cilium assembly+GO:0060271&microtubule anchori...   \n",
       "1                           cell adhesion+GO:0007155   \n",
       "2  cellular response to heat+GO:0034605&Golgi org...   \n",
       "3  actin filament organization+GO:0007015&endosom...   \n",
       "4          mRNA splicing, via spliceosome+GO:0000398   \n",
       "\n",
       "                                            GOSubLoc UniProt  \\\n",
       "0  centriolar satellite+GO:0034451&centriole+GO:0...  Q96NB1   \n",
       "1  extracellular region+GO:0005576&collagen trime...  A6NMZ7   \n",
       "2  cytosol+GO:0005829&nuclear body+GO:0016604&nuc...  Q53FT3   \n",
       "3  actin cytoskeleton+GO:0015629&myosin complex+G...  Q9ULV0   \n",
       "4  nucleoplasm+GO:0005654&nucleus+GO:0005634&RES ...  Q9BRD0   \n",
       "\n",
       "                       PDBs            PubMeds  \\\n",
       "0                       NaN  20551181&24018379   \n",
       "1                       NaN                NaN   \n",
       "2                 3WVZ&3WW0                NaN   \n",
       "3       4J5M&4LNZ&4LWZ&4LX0                NaN   \n",
       "4  5Z56&5Z57&5Z58&6FF4&6FF7                NaN   \n",
       "\n",
       "                                            Sequence Sites  \n",
       "0  MATVAELKAVLKDTLEKKGVLGHLKARIRAEVFNALDDDREPRPSL...   NaN  \n",
       "1  MMLLILFLVIICSHISVNQDSGPEYADVVFLVDSSDRLGSKSFPFV...   NaN  \n",
       "2  MFGCLVAGRLVQTAAQQVAEDKFVFDLPDYESINHVVVFMLGTIPF...   NaN  \n",
       "3  MSVGELYSQCTRVWIPDPDEVWRSAELTKDYKEGDKSLQLRLEDET...   NaN  \n",
       "4  MAAAPPLSKAEYLKRYLSGADAGVDRGSESGRKRRKKRPKPGGAGG...   NaN  "
      ],
      "text/html": "<div>\n<style scoped>\n    .dataframe tbody tr th:only-of-type {\n        vertical-align: middle;\n    }\n\n    .dataframe tbody tr th {\n        vertical-align: top;\n    }\n\n    .dataframe thead th {\n        text-align: right;\n    }\n</style>\n<table border=\"1\" class=\"dataframe\">\n  <thead>\n    <tr style=\"text-align: right;\">\n      <th></th>\n      <th>Protein</th>\n      <th>Gene</th>\n      <th>Species</th>\n      <th>Description</th>\n      <th>GOMolFunc</th>\n      <th>GOBioProc</th>\n      <th>GOSubLoc</th>\n      <th>UniProt</th>\n      <th>PDBs</th>\n      <th>PubMeds</th>\n      <th>Sequence</th>\n      <th>Sites</th>\n    </tr>\n  </thead>\n  <tbody>\n    <tr>\n      <th>0</th>\n      <td>Centrosomal protein 20</td>\n      <td>CEP20</td>\n      <td>Homo sapiens (Human)</td>\n      <td>Involved in the biogenesis of cilia (PubMed:20...</td>\n      <td>identical protein binding+GO:0042802</td>\n      <td>cilium assembly+GO:0060271&amp;microtubule anchori...</td>\n      <td>centriolar satellite+GO:0034451&amp;centriole+GO:0...</td>\n      <td>Q96NB1</td>\n      <td>NaN</td>\n      <td>20551181&amp;24018379</td>\n      <td>MATVAELKAVLKDTLEKKGVLGHLKARIRAEVFNALDDDREPRPSL...</td>\n      <td>NaN</td>\n    </tr>\n    <tr>\n      <th>1</th>\n      <td>Collagen alpha-6(VI) chain</td>\n      <td>COL6A6</td>\n      <td>Homo sapiens (Human)</td>\n      <td>Collagen VI acts as a cell-binding protein.</td>\n      <td>NaN</td>\n      <td>cell adhesion+GO:0007155</td>\n      <td>extracellular region+GO:0005576&amp;collagen trime...</td>\n      <td>A6NMZ7</td>\n      <td>NaN</td>\n      <td>NaN</td>\n      <td>MMLLILFLVIICSHISVNQDSGPEYADVVFLVDSSDRLGSKSFPFV...</td>\n      <td>NaN</td>\n    </tr>\n    <tr>\n      <th>2</th>\n      <td>Protein Hikeshi</td>\n      <td>HIKESHI</td>\n      <td>Homo sapiens (Human)</td>\n      <td>Acts as a specific nuclear import carrier for ...</td>\n      <td>Hsp70 protein binding+GO:0030544&amp;nuclear impor...</td>\n      <td>cellular response to heat+GO:0034605&amp;Golgi org...</td>\n      <td>cytosol+GO:0005829&amp;nuclear body+GO:0016604&amp;nuc...</td>\n      <td>Q53FT3</td>\n      <td>3WVZ&amp;3WW0</td>\n      <td>NaN</td>\n      <td>MFGCLVAGRLVQTAAQQVAEDKFVFDLPDYESINHVVVFMLGTIPF...</td>\n      <td>NaN</td>\n    </tr>\n    <tr>\n      <th>3</th>\n      <td>Unconventional myosin-Vb</td>\n      <td>MYO5B</td>\n      <td>Homo sapiens (Human)</td>\n      <td>May be involved in vesicular trafficking via i...</td>\n      <td>actin-dependent ATPase activity+GO:0030898&amp;act...</td>\n      <td>actin filament organization+GO:0007015&amp;endosom...</td>\n      <td>actin cytoskeleton+GO:0015629&amp;myosin complex+G...</td>\n      <td>Q9ULV0</td>\n      <td>4J5M&amp;4LNZ&amp;4LWZ&amp;4LX0</td>\n      <td>NaN</td>\n      <td>MSVGELYSQCTRVWIPDPDEVWRSAELTKDYKEGDKSLQLRLEDET...</td>\n      <td>NaN</td>\n    </tr>\n    <tr>\n      <th>4</th>\n      <td>BUD13 homolog</td>\n      <td>BUD13</td>\n      <td>Homo sapiens (Human)</td>\n      <td>Involved in pre-mRNA splicing as component of ...</td>\n      <td>RNA binding+GO:0003723</td>\n      <td>mRNA splicing, via spliceosome+GO:0000398</td>\n      <td>nucleoplasm+GO:0005654&amp;nucleus+GO:0005634&amp;RES ...</td>\n      <td>Q9BRD0</td>\n      <td>5Z56&amp;5Z57&amp;5Z58&amp;6FF4&amp;6FF7</td>\n      <td>NaN</td>\n      <td>MAAAPPLSKAEYLKRYLSGADAGVDRGSESGRKRRKKRPKPGGAGG...</td>\n      <td>NaN</td>\n    </tr>\n  </tbody>\n</table>\n</div>"
     },
     "metadata": {},
     "execution_count": 1
    }
   ],
   "source": [
    "import glob\n",
    "import pandas as pd\n",
    "\n",
    "df = pd.concat([pd.read_csv(file, sep = \";\", header = None) \n",
    "                for file in glob.glob('../up_data_*.csv')]).dropna(axis = 1, \n",
    "                                                                   how = \"all\")\n",
    "\n",
    "df.columns = [\n",
    "    \"Protein\",\n",
    "    \"Gene\",\n",
    "    \"Species\",\n",
    "    \"Description\",\n",
    "    \"GOMolFunc\",\n",
    "    \"GOBioProc\",\n",
    "    \"GOSubLoc\",\n",
    "    \"UniProt\",\n",
    "    \"PDBs\",\n",
    "    \"PubMeds\",\n",
    "    \"Sequence\",\n",
    "    \"Sites\"\n",
    "]\n",
    "\n",
    "df.Sequence = df.Sequence.str.split(\"&\", expand = True)[1] # Discard FASTA header\n",
    "\n",
    "df.head()"
   ]
  },
  {
   "source": [
    "## PDB IDs database"
   ],
   "cell_type": "markdown",
   "metadata": {}
  },
  {
   "cell_type": "code",
   "execution_count": 2,
   "metadata": {},
   "outputs": [
    {
     "output_type": "execute_result",
     "data": {
      "text/plain": [
       "  UniProt   PDB\n",
       "2  Q53FT3  3WVZ\n",
       "2  Q53FT3  3WW0\n",
       "3  Q9ULV0  4J5M\n",
       "3  Q9ULV0  4LNZ\n",
       "3  Q9ULV0  4LWZ"
      ],
      "text/html": "<div>\n<style scoped>\n    .dataframe tbody tr th:only-of-type {\n        vertical-align: middle;\n    }\n\n    .dataframe tbody tr th {\n        vertical-align: top;\n    }\n\n    .dataframe thead th {\n        text-align: right;\n    }\n</style>\n<table border=\"1\" class=\"dataframe\">\n  <thead>\n    <tr style=\"text-align: right;\">\n      <th></th>\n      <th>UniProt</th>\n      <th>PDB</th>\n    </tr>\n  </thead>\n  <tbody>\n    <tr>\n      <th>2</th>\n      <td>Q53FT3</td>\n      <td>3WVZ</td>\n    </tr>\n    <tr>\n      <th>2</th>\n      <td>Q53FT3</td>\n      <td>3WW0</td>\n    </tr>\n    <tr>\n      <th>3</th>\n      <td>Q9ULV0</td>\n      <td>4J5M</td>\n    </tr>\n    <tr>\n      <th>3</th>\n      <td>Q9ULV0</td>\n      <td>4LNZ</td>\n    </tr>\n    <tr>\n      <th>3</th>\n      <td>Q9ULV0</td>\n      <td>4LWZ</td>\n    </tr>\n  </tbody>\n</table>\n</div>"
     },
     "metadata": {},
     "execution_count": 2
    }
   ],
   "source": [
    "pdb = df[[\"UniProt\", \"PDBs\"]].dropna()\n",
    "\n",
    "pdb[\"PDB\"] = pdb.PDBs.str.split(\"&\")\n",
    "del pdb[\"PDBs\"]\n",
    "\n",
    "pdb = pdb.explode(\"PDB\")\n",
    "\n",
    "pdb.head()"
   ]
  },
  {
   "cell_type": "code",
   "execution_count": 3,
   "metadata": {},
   "outputs": [],
   "source": [
    "pdb.to_csv(\"all_human_pdb.csv\", index = False, sep = \";\")"
   ]
  },
  {
   "source": [
    "## GO annotations database"
   ],
   "cell_type": "markdown",
   "metadata": {}
  },
  {
   "cell_type": "code",
   "execution_count": 4,
   "metadata": {},
   "outputs": [
    {
     "output_type": "execute_result",
     "data": {
      "text/plain": [
       "  UniProt   variable                                                 GO\n",
       "0  Q96NB1  GOMolFunc               [identical protein binding, 0042802]\n",
       "1  A6NMZ7  GOMolFunc                                                 []\n",
       "2  Q53FT3  GOMolFunc                   [Hsp70 protein binding, 0030544]\n",
       "3  Q53FT3  GOMolFunc  [nuclear import signal receptor activity, 0061...\n",
       "4  Q9ULV0  GOMolFunc         [actin-dependent ATPase activity, 0030898]"
      ],
      "text/html": "<div>\n<style scoped>\n    .dataframe tbody tr th:only-of-type {\n        vertical-align: middle;\n    }\n\n    .dataframe tbody tr th {\n        vertical-align: top;\n    }\n\n    .dataframe thead th {\n        text-align: right;\n    }\n</style>\n<table border=\"1\" class=\"dataframe\">\n  <thead>\n    <tr style=\"text-align: right;\">\n      <th></th>\n      <th>UniProt</th>\n      <th>variable</th>\n      <th>GO</th>\n    </tr>\n  </thead>\n  <tbody>\n    <tr>\n      <th>0</th>\n      <td>Q96NB1</td>\n      <td>GOMolFunc</td>\n      <td>[identical protein binding, 0042802]</td>\n    </tr>\n    <tr>\n      <th>1</th>\n      <td>A6NMZ7</td>\n      <td>GOMolFunc</td>\n      <td>[]</td>\n    </tr>\n    <tr>\n      <th>2</th>\n      <td>Q53FT3</td>\n      <td>GOMolFunc</td>\n      <td>[Hsp70 protein binding, 0030544]</td>\n    </tr>\n    <tr>\n      <th>3</th>\n      <td>Q53FT3</td>\n      <td>GOMolFunc</td>\n      <td>[nuclear import signal receptor activity, 0061...</td>\n    </tr>\n    <tr>\n      <th>4</th>\n      <td>Q9ULV0</td>\n      <td>GOMolFunc</td>\n      <td>[actin-dependent ATPase activity, 0030898]</td>\n    </tr>\n  </tbody>\n</table>\n</div>"
     },
     "metadata": {},
     "execution_count": 4
    }
   ],
   "source": [
    "go_df = df.melt(id_vars = df.columns[[0,1,2,3,7,8,9,10,11]], \n",
    "                value_vars = df.columns[[4,5,6]], \n",
    "                value_name =\"GO\")\n",
    "go_df.GO = go_df.GO.fillna(\"\").str.split(\"&\").apply(lambda x: \n",
    "                                                    [n.split(\"+GO:\") \n",
    "                                                     for n in x])       \n",
    "\n",
    "go_df = go_df[[\"UniProt\", \"variable\", \"GO\"]].explode(\"GO\")\n",
    "go_df.index = list(range(len(go_df)))     \n",
    "                                                                      \n",
    "go_df.head()"
   ]
  },
  {
   "cell_type": "code",
   "execution_count": 5,
   "metadata": {},
   "outputs": [
    {
     "output_type": "execute_result",
     "data": {
      "text/plain": [
       "  UniProt   variable                                  GOAnnot     GOID\n",
       "0  Q96NB1  GOMolFunc                identical protein binding  0042802\n",
       "1  A6NMZ7  GOMolFunc                                              None\n",
       "2  Q53FT3  GOMolFunc                    Hsp70 protein binding  0030544\n",
       "3  Q53FT3  GOMolFunc  nuclear import signal receptor activity  0061608\n",
       "4  Q9ULV0  GOMolFunc          actin-dependent ATPase activity  0030898"
      ],
      "text/html": "<div>\n<style scoped>\n    .dataframe tbody tr th:only-of-type {\n        vertical-align: middle;\n    }\n\n    .dataframe tbody tr th {\n        vertical-align: top;\n    }\n\n    .dataframe thead th {\n        text-align: right;\n    }\n</style>\n<table border=\"1\" class=\"dataframe\">\n  <thead>\n    <tr style=\"text-align: right;\">\n      <th></th>\n      <th>UniProt</th>\n      <th>variable</th>\n      <th>GOAnnot</th>\n      <th>GOID</th>\n    </tr>\n  </thead>\n  <tbody>\n    <tr>\n      <th>0</th>\n      <td>Q96NB1</td>\n      <td>GOMolFunc</td>\n      <td>identical protein binding</td>\n      <td>0042802</td>\n    </tr>\n    <tr>\n      <th>1</th>\n      <td>A6NMZ7</td>\n      <td>GOMolFunc</td>\n      <td></td>\n      <td>None</td>\n    </tr>\n    <tr>\n      <th>2</th>\n      <td>Q53FT3</td>\n      <td>GOMolFunc</td>\n      <td>Hsp70 protein binding</td>\n      <td>0030544</td>\n    </tr>\n    <tr>\n      <th>3</th>\n      <td>Q53FT3</td>\n      <td>GOMolFunc</td>\n      <td>nuclear import signal receptor activity</td>\n      <td>0061608</td>\n    </tr>\n    <tr>\n      <th>4</th>\n      <td>Q9ULV0</td>\n      <td>GOMolFunc</td>\n      <td>actin-dependent ATPase activity</td>\n      <td>0030898</td>\n    </tr>\n  </tbody>\n</table>\n</div>"
     },
     "metadata": {},
     "execution_count": 5
    }
   ],
   "source": [
    "go_df[[\"GOAnnot\", \"GOID\"]] = pd.DataFrame(go_df.GO.tolist(), index = go_df.index)\n",
    "del go_df[\"GO\"]\n",
    "\n",
    "go_df.head()"
   ]
  },
  {
   "cell_type": "code",
   "execution_count": 6,
   "metadata": {},
   "outputs": [
    {
     "output_type": "execute_result",
     "data": {
      "text/plain": [
       "  UniProt              GOType                                  GOAnnot  \\\n",
       "0  Q96NB1  molecular function                identical protein binding   \n",
       "2  Q53FT3  molecular function                    Hsp70 protein binding   \n",
       "3  Q53FT3  molecular function  nuclear import signal receptor activity   \n",
       "4  Q9ULV0  molecular function          actin-dependent ATPase activity   \n",
       "5  Q9ULV0  molecular function                   actin filament binding   \n",
       "\n",
       "      GOID  \n",
       "0  0042802  \n",
       "2  0030544  \n",
       "3  0061608  \n",
       "4  0030898  \n",
       "5  0051015  "
      ],
      "text/html": "<div>\n<style scoped>\n    .dataframe tbody tr th:only-of-type {\n        vertical-align: middle;\n    }\n\n    .dataframe tbody tr th {\n        vertical-align: top;\n    }\n\n    .dataframe thead th {\n        text-align: right;\n    }\n</style>\n<table border=\"1\" class=\"dataframe\">\n  <thead>\n    <tr style=\"text-align: right;\">\n      <th></th>\n      <th>UniProt</th>\n      <th>GOType</th>\n      <th>GOAnnot</th>\n      <th>GOID</th>\n    </tr>\n  </thead>\n  <tbody>\n    <tr>\n      <th>0</th>\n      <td>Q96NB1</td>\n      <td>molecular function</td>\n      <td>identical protein binding</td>\n      <td>0042802</td>\n    </tr>\n    <tr>\n      <th>2</th>\n      <td>Q53FT3</td>\n      <td>molecular function</td>\n      <td>Hsp70 protein binding</td>\n      <td>0030544</td>\n    </tr>\n    <tr>\n      <th>3</th>\n      <td>Q53FT3</td>\n      <td>molecular function</td>\n      <td>nuclear import signal receptor activity</td>\n      <td>0061608</td>\n    </tr>\n    <tr>\n      <th>4</th>\n      <td>Q9ULV0</td>\n      <td>molecular function</td>\n      <td>actin-dependent ATPase activity</td>\n      <td>0030898</td>\n    </tr>\n    <tr>\n      <th>5</th>\n      <td>Q9ULV0</td>\n      <td>molecular function</td>\n      <td>actin filament binding</td>\n      <td>0051015</td>\n    </tr>\n  </tbody>\n</table>\n</div>"
     },
     "metadata": {},
     "execution_count": 6
    }
   ],
   "source": [
    "go_df = (go_df.dropna()\n",
    "              .replace({\"GOMolFunc\": \"molecular function\",\n",
    "                        \"GOSubLoc\": \"subcellular location\",\n",
    "                        \"GOBioProc\": \"biological process\"})\n",
    "              .rename(columns = {\"variable\": \"GOType\"})\n",
    "        )\n",
    "\n",
    "go_df.head()"
   ]
  },
  {
   "cell_type": "code",
   "execution_count": 7,
   "metadata": {},
   "outputs": [],
   "source": [
    "go_df.to_csv(\"all_human_go.csv\", index = False, sep = \";\")"
   ]
  },
  {
   "source": [
    "## Basic information dataset"
   ],
   "cell_type": "markdown",
   "metadata": {}
  },
  {
   "cell_type": "code",
   "execution_count": 8,
   "metadata": {},
   "outputs": [
    {
     "output_type": "execute_result",
     "data": {
      "text/plain": [
       "                                               Protein      Gene  \\\n",
       "0                               Centrosomal protein 20     CEP20   \n",
       "1                           Collagen alpha-6(VI) chain    COL6A6   \n",
       "2                                      Protein Hikeshi   HIKESHI   \n",
       "3                             Unconventional myosin-Vb     MYO5B   \n",
       "4                                        BUD13 homolog     BUD13   \n",
       "..                                                 ...       ...   \n",
       "495                         Cellular tumor antigen p53      TP53   \n",
       "496  Deoxynucleotidyltransferase terminal-interacti...   DNTTIP1   \n",
       "497                                Cytochrome P450 4F8    CYP4F8   \n",
       "498                          Protein-tyrosine kinase 6      PTK6   \n",
       "499  Platelet-activating factor acetylhydrolase IB ...  PAFAH1B2   \n",
       "\n",
       "                  Species                                        Description  \\\n",
       "0    Homo sapiens (Human)  Involved in the biogenesis of cilia (PubMed:20...   \n",
       "1    Homo sapiens (Human)        Collagen VI acts as a cell-binding protein.   \n",
       "2    Homo sapiens (Human)  Acts as a specific nuclear import carrier for ...   \n",
       "3    Homo sapiens (Human)  May be involved in vesicular trafficking via i...   \n",
       "4    Homo sapiens (Human)  Involved in pre-mRNA splicing as component of ...   \n",
       "..                    ...                                                ...   \n",
       "495  Homo sapiens (Human)  Acts as a tumor suppressor in many tumor types...   \n",
       "496  Homo sapiens (Human)  Increases DNTT terminal deoxynucleotidyltransf...   \n",
       "497  Homo sapiens (Human)  A cytochrome P450 monooxygenase involved in th...   \n",
       "498  Homo sapiens (Human)  Non-receptor tyrosine-protein kinase implicate...   \n",
       "499  Homo sapiens (Human)  Alpha2 catalytic subunit of the cytosolic type...   \n",
       "\n",
       "    UniProt                                            PubMeds  \\\n",
       "0    Q96NB1                                  20551181&24018379   \n",
       "1    A6NMZ7                                                NaN   \n",
       "2    Q53FT3                                                NaN   \n",
       "3    Q9ULV0                                                NaN   \n",
       "4    Q9BRD0                                                NaN   \n",
       "..      ...                                                ...   \n",
       "495  P04637                         12524540&12524540&24051492   \n",
       "496  Q9H147                                           11473582   \n",
       "497  P98187  10791960&16112640&15789615&10791960&10791960&1...   \n",
       "498  Q13882                                                NaN   \n",
       "499  P68402                                            9144386   \n",
       "\n",
       "                                              Sequence  \\\n",
       "0    MATVAELKAVLKDTLEKKGVLGHLKARIRAEVFNALDDDREPRPSL...   \n",
       "1    MMLLILFLVIICSHISVNQDSGPEYADVVFLVDSSDRLGSKSFPFV...   \n",
       "2    MFGCLVAGRLVQTAAQQVAEDKFVFDLPDYESINHVVVFMLGTIPF...   \n",
       "3    MSVGELYSQCTRVWIPDPDEVWRSAELTKDYKEGDKSLQLRLEDET...   \n",
       "4    MAAAPPLSKAEYLKRYLSGADAGVDRGSESGRKRRKKRPKPGGAGG...   \n",
       "..                                                 ...   \n",
       "495  MEEPQSDPSVEPPLSQETFSDLWKLLPENNVLSPLPSQAMDDLMLS...   \n",
       "496  MGATGDAEQPRGPSGAERGGLELGDAGAAGQLVLTNPWNIMIKHRQ...   \n",
       "497  MSLLSLSWLGLRPVAASPWLLLLVVGASWLLARILAWTYAFYHNGR...   \n",
       "498  MVSRDQAHLGPKYVGLWDFKSRTDEELSFRAGDVFHVARKEEQWWW...   \n",
       "499  MSQGDSNPAAIPHAAEDIQGDDRWMSQHNRFVLDCKDKEPDVLFVG...   \n",
       "\n",
       "                                                 Sites  \n",
       "0                                                  NaN  \n",
       "1                                                  NaN  \n",
       "2                                                  NaN  \n",
       "3                                                  NaN  \n",
       "4                                                  NaN  \n",
       "..                                                 ...  \n",
       "495  Metal binding&176&Zinc&Metal binding&179&Zinc&...  \n",
       "496                                                NaN  \n",
       "497         Metal binding&468&Iron (heme axial ligand)  \n",
       "498  Binding site&219&ATP&Active site&312&Proton ac...  \n",
       "499     Active site&48&Active site&193&Active site&196  \n",
       "\n",
       "[20395 rows x 8 columns]"
      ],
      "text/html": "<div>\n<style scoped>\n    .dataframe tbody tr th:only-of-type {\n        vertical-align: middle;\n    }\n\n    .dataframe tbody tr th {\n        vertical-align: top;\n    }\n\n    .dataframe thead th {\n        text-align: right;\n    }\n</style>\n<table border=\"1\" class=\"dataframe\">\n  <thead>\n    <tr style=\"text-align: right;\">\n      <th></th>\n      <th>Protein</th>\n      <th>Gene</th>\n      <th>Species</th>\n      <th>Description</th>\n      <th>UniProt</th>\n      <th>PubMeds</th>\n      <th>Sequence</th>\n      <th>Sites</th>\n    </tr>\n  </thead>\n  <tbody>\n    <tr>\n      <th>0</th>\n      <td>Centrosomal protein 20</td>\n      <td>CEP20</td>\n      <td>Homo sapiens (Human)</td>\n      <td>Involved in the biogenesis of cilia (PubMed:20...</td>\n      <td>Q96NB1</td>\n      <td>20551181&amp;24018379</td>\n      <td>MATVAELKAVLKDTLEKKGVLGHLKARIRAEVFNALDDDREPRPSL...</td>\n      <td>NaN</td>\n    </tr>\n    <tr>\n      <th>1</th>\n      <td>Collagen alpha-6(VI) chain</td>\n      <td>COL6A6</td>\n      <td>Homo sapiens (Human)</td>\n      <td>Collagen VI acts as a cell-binding protein.</td>\n      <td>A6NMZ7</td>\n      <td>NaN</td>\n      <td>MMLLILFLVIICSHISVNQDSGPEYADVVFLVDSSDRLGSKSFPFV...</td>\n      <td>NaN</td>\n    </tr>\n    <tr>\n      <th>2</th>\n      <td>Protein Hikeshi</td>\n      <td>HIKESHI</td>\n      <td>Homo sapiens (Human)</td>\n      <td>Acts as a specific nuclear import carrier for ...</td>\n      <td>Q53FT3</td>\n      <td>NaN</td>\n      <td>MFGCLVAGRLVQTAAQQVAEDKFVFDLPDYESINHVVVFMLGTIPF...</td>\n      <td>NaN</td>\n    </tr>\n    <tr>\n      <th>3</th>\n      <td>Unconventional myosin-Vb</td>\n      <td>MYO5B</td>\n      <td>Homo sapiens (Human)</td>\n      <td>May be involved in vesicular trafficking via i...</td>\n      <td>Q9ULV0</td>\n      <td>NaN</td>\n      <td>MSVGELYSQCTRVWIPDPDEVWRSAELTKDYKEGDKSLQLRLEDET...</td>\n      <td>NaN</td>\n    </tr>\n    <tr>\n      <th>4</th>\n      <td>BUD13 homolog</td>\n      <td>BUD13</td>\n      <td>Homo sapiens (Human)</td>\n      <td>Involved in pre-mRNA splicing as component of ...</td>\n      <td>Q9BRD0</td>\n      <td>NaN</td>\n      <td>MAAAPPLSKAEYLKRYLSGADAGVDRGSESGRKRRKKRPKPGGAGG...</td>\n      <td>NaN</td>\n    </tr>\n    <tr>\n      <th>...</th>\n      <td>...</td>\n      <td>...</td>\n      <td>...</td>\n      <td>...</td>\n      <td>...</td>\n      <td>...</td>\n      <td>...</td>\n      <td>...</td>\n    </tr>\n    <tr>\n      <th>495</th>\n      <td>Cellular tumor antigen p53</td>\n      <td>TP53</td>\n      <td>Homo sapiens (Human)</td>\n      <td>Acts as a tumor suppressor in many tumor types...</td>\n      <td>P04637</td>\n      <td>12524540&amp;12524540&amp;24051492</td>\n      <td>MEEPQSDPSVEPPLSQETFSDLWKLLPENNVLSPLPSQAMDDLMLS...</td>\n      <td>Metal binding&amp;176&amp;Zinc&amp;Metal binding&amp;179&amp;Zinc&amp;...</td>\n    </tr>\n    <tr>\n      <th>496</th>\n      <td>Deoxynucleotidyltransferase terminal-interacti...</td>\n      <td>DNTTIP1</td>\n      <td>Homo sapiens (Human)</td>\n      <td>Increases DNTT terminal deoxynucleotidyltransf...</td>\n      <td>Q9H147</td>\n      <td>11473582</td>\n      <td>MGATGDAEQPRGPSGAERGGLELGDAGAAGQLVLTNPWNIMIKHRQ...</td>\n      <td>NaN</td>\n    </tr>\n    <tr>\n      <th>497</th>\n      <td>Cytochrome P450 4F8</td>\n      <td>CYP4F8</td>\n      <td>Homo sapiens (Human)</td>\n      <td>A cytochrome P450 monooxygenase involved in th...</td>\n      <td>P98187</td>\n      <td>10791960&amp;16112640&amp;15789615&amp;10791960&amp;10791960&amp;1...</td>\n      <td>MSLLSLSWLGLRPVAASPWLLLLVVGASWLLARILAWTYAFYHNGR...</td>\n      <td>Metal binding&amp;468&amp;Iron (heme axial ligand)</td>\n    </tr>\n    <tr>\n      <th>498</th>\n      <td>Protein-tyrosine kinase 6</td>\n      <td>PTK6</td>\n      <td>Homo sapiens (Human)</td>\n      <td>Non-receptor tyrosine-protein kinase implicate...</td>\n      <td>Q13882</td>\n      <td>NaN</td>\n      <td>MVSRDQAHLGPKYVGLWDFKSRTDEELSFRAGDVFHVARKEEQWWW...</td>\n      <td>Binding site&amp;219&amp;ATP&amp;Active site&amp;312&amp;Proton ac...</td>\n    </tr>\n    <tr>\n      <th>499</th>\n      <td>Platelet-activating factor acetylhydrolase IB ...</td>\n      <td>PAFAH1B2</td>\n      <td>Homo sapiens (Human)</td>\n      <td>Alpha2 catalytic subunit of the cytosolic type...</td>\n      <td>P68402</td>\n      <td>9144386</td>\n      <td>MSQGDSNPAAIPHAAEDIQGDDRWMSQHNRFVLDCKDKEPDVLFVG...</td>\n      <td>Active site&amp;48&amp;Active site&amp;193&amp;Active site&amp;196</td>\n    </tr>\n  </tbody>\n</table>\n<p>20395 rows × 8 columns</p>\n</div>"
     },
     "metadata": {},
     "execution_count": 8
    }
   ],
   "source": [
    "for col in [\"GOMolFunc\", \"GOBioProc\", \"GOSubLoc\", \"PDBs\"]:\n",
    "    del df[col]\n",
    "    \n",
    "df"
   ]
  },
  {
   "cell_type": "code",
   "execution_count": 9,
   "metadata": {},
   "outputs": [],
   "source": [
    "df.to_csv(\"all_human_basic_info.csv\", index = False, sep = \";\")"
   ]
  }
 ]
}